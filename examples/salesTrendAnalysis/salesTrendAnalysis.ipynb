{
 "cells": [
  {
   "cell_type": "markdown",
   "id": "8d1e1b561eb80314",
   "metadata": {
    "collapsed": false,
    "jupyter": {
     "outputs_hidden": false
    }
   },
   "source": []
  },
  {
   "cell_type": "markdown",
   "id": "1ecf897e",
   "metadata": {
    "collapsed": true,
    "jupyter": {
     "outputs_hidden": true
    }
   },
   "source": [
    "# Examples of the ELO Python Client"
   ]
  },
  {
   "cell_type": "markdown",
   "id": "a7ffb53d",
   "metadata": {},
   "source": [
    "## Connect to ELO"
   ]
  },
  {
   "cell_type": "code",
   "execution_count": 13,
   "id": "74cea39e",
   "metadata": {
    "ExecuteTime": {
     "end_time": "2024-03-19T22:59:49.026450100Z",
     "start_time": "2024-03-19T22:59:49.012430100Z"
    }
   },
   "outputs": [],
   "source": [
    "from decouple import AutoConfig\n",
    "from eloservice.elo_service import EloService\n",
    "\n",
    "config = AutoConfig(search_path='./') # load .env file from current directory with connection details\n",
    "rest_baseurl = config(\"TEST_ELO_IX_URL\")\n",
    "rest_user = config(\"TEST_ELO_IX_USER\")\n",
    "rest_password = config(\"TEST_ELO_IX_PASSWORD\")\n",
    "elo_service = EloService(url=rest_baseurl, user=rest_user, password=rest_password)"
   ]
  },
  {
   "cell_type": "markdown",
   "id": "81d45a38f9793e82",
   "metadata": {
    "collapsed": false,
    "jupyter": {
     "outputs_hidden": false
    }
   },
   "source": [
    "### Load all sales"
   ]
  },
  {
   "cell_type": "code",
   "execution_count": 16,
   "id": "7fa570c8c1d9caf4",
   "metadata": {
    "ExecuteTime": {
     "end_time": "2024-03-19T22:59:49.371675700Z",
     "start_time": "2024-03-19T22:59:49.020064900Z"
    },
    "collapsed": false,
    "jupyter": {
     "outputs_hidden": false
    }
   },
   "outputs": [
    {
     "name": "stdout",
     "output_type": "stream",
     "text": [
      "found 2853 results\n"
     ]
    }
   ],
   "source": [
    "maskID = \"33\" #ID of our mask sales\n",
    "results = elo_service.search(search_mask_id=maskID, max_results=3500)\n",
    "print(f\"found {len(results)} results\")"
   ]
  },
  {
   "cell_type": "markdown",
   "id": "d53ed71ff338fe95",
   "metadata": {
    "collapsed": false,
    "jupyter": {
     "outputs_hidden": false
    }
   },
   "source": [
    "### Load all sales details"
   ]
  },
  {
   "cell_type": "code",
   "execution_count": 17,
   "id": "874f1fa70b3d59f4",
   "metadata": {
    "ExecuteTime": {
     "end_time": "2024-03-19T23:12:42.729292600Z",
     "start_time": "2024-03-19T23:12:42.432221900Z"
    },
    "collapsed": false,
    "jupyter": {
     "outputs_hidden": false
    }
   },
   "outputs": [
    {
     "name": "stderr",
     "output_type": "stream",
     "text": [
      "100%|██████████████████████████████████████████████████████████████████████████████████████████████████| 2853/2853 [01:24<00:00, 33.58it/s]\n"
     ]
    }
   ],
   "source": [
    "import tqdm\n",
    "import os\n",
    "import pickle\n",
    "\n",
    "# checkout all results\n",
    "checked_out = []\n",
    "# restore from pickle if available\n",
    "if os.path.exists(\"sales.pkl\"):\n",
    "    with open(\"sales.pkl\", \"rb\") as f:\n",
    "        checked_out = pickle.load(f)\n",
    "        print(f\"Restored {len(checked_out)} sales from pickle\")\n",
    "else:\n",
    "    for result in tqdm.tqdm(results):\n",
    "        sord = elo_service.checkout(result)\n",
    "        checked_out.append(sord)"
   ]
  },
  {
   "cell_type": "code",
   "execution_count": 18,
   "id": "508a1d55b3612fe9",
   "metadata": {
    "ExecuteTime": {
     "end_time": "2024-03-19T23:11:17.251529500Z",
     "start_time": "2024-03-19T23:11:16.959447100Z"
    },
    "collapsed": false,
    "jupyter": {
     "outputs_hidden": false
    }
   },
   "outputs": [
    {
     "name": "stdout",
     "output_type": "stream",
     "text": [
      "Stored 2853 sales to pickle on path /Users/manuel/private_dev/repos/elo-indexserver-client/examples/salesTrendAnalysis/sales.pkl\n"
     ]
    }
   ],
   "source": [
    "# store the checked out sords as pickle\n",
    "with open(\"sales.pkl\", \"wb\") as f:\n",
    "    pickle.dump(checked_out, f)\n",
    "    print(f\"Stored {len(checked_out)} sales to pickle on path {os.path.abspath('sales.pkl')}\")"
   ]
  },
  {
   "cell_type": "markdown",
   "id": "8398d85eea58742",
   "metadata": {
    "collapsed": false,
    "jupyter": {
     "outputs_hidden": false
    }
   },
   "source": [
    "### We get a bunch of technical sords which we want to filter out."
   ]
  },
  {
   "cell_type": "code",
   "execution_count": 19,
   "id": "134eb26f0e8272d0",
   "metadata": {
    "ExecuteTime": {
     "end_time": "2024-03-19T23:01:06.037122600Z",
     "start_time": "2024-03-19T23:01:06.009345500Z"
    },
    "collapsed": false,
    "jupyter": {
     "outputs_hidden": false
    }
   },
   "outputs": [],
   "source": [
    "import re\n",
    "blacklist = [\"Action definition\", \"sol.*\", \"trskn.inventory.*\"]\n",
    "cleaned = []\n",
    "for result in checked_out:\n",
    "    for black in blacklist:\n",
    "        if re.match(black, result.name):\n",
    "            break\n",
    "    else:\n",
    "        cleaned.append(result)\n"
   ]
  },
  {
   "cell_type": "code",
   "execution_count": 20,
   "id": "30ba6869e888cc2f",
   "metadata": {
    "ExecuteTime": {
     "end_time": "2024-03-19T23:01:06.037629100Z",
     "start_time": "2024-03-19T23:01:06.032896700Z"
    },
    "collapsed": false,
    "jupyter": {
     "outputs_hidden": false
    }
   },
   "outputs": [
    {
     "data": {
      "text/plain": [
       "[ObjKey(data=['10100 S18_1749 Online Diecast Creations Co.'], display_data=<eloclient.types.Unset object at 0x106bc5dc0>, id=0, name='SALE_NAME', obj_id=9363, additional_properties={}),\n",
       " ObjKey(data=['Vintage Cars'], display_data=<eloclient.types.Unset object at 0x106bc5dc0>, id=1, name='SALE_PRODUCT', obj_id=9363, additional_properties={}),\n",
       " ObjKey(data=['3000.00'], display_data=<eloclient.types.Unset object at 0x106bc5dc0>, id=2, name='SALE_AMOUNT', obj_id=9363, additional_properties={}),\n",
       " ObjKey(data=['20030106000000'], display_data=<eloclient.types.Unset object at 0x106bc5dc0>, id=3, name='SALE_DATE', obj_id=9363, additional_properties={})]"
      ]
     },
     "execution_count": 20,
     "metadata": {},
     "output_type": "execute_result"
    }
   ],
   "source": [
    "cleaned[0].obj_keys"
   ]
  },
  {
   "cell_type": "code",
   "execution_count": 21,
   "id": "ea8f152e71b4df51",
   "metadata": {
    "ExecuteTime": {
     "end_time": "2024-03-19T23:02:25.762182Z",
     "start_time": "2024-03-19T23:02:25.760655500Z"
    },
    "collapsed": false,
    "jupyter": {
     "outputs_hidden": false
    }
   },
   "outputs": [
    {
     "data": {
      "text/plain": [
       "{'SALE_NAME': '10100 S18_1749 Online Diecast Creations Co.',\n",
       " 'SALE_PRODUCT': 'Vintage Cars',\n",
       " 'SALE_AMOUNT': '3000.00',\n",
       " 'SALE_DATE': '20030106000000'}"
      ]
     },
     "execution_count": 21,
     "metadata": {},
     "output_type": "execute_result"
    }
   ],
   "source": [
    "## convert objkeys to a dict\n",
    "def objkeys_to_dict(objkeys):\n",
    "    return {objkey.name: objkey.data[0] if objkey.data else None for objkey in objkeys}\n",
    "\n",
    "# for each cleaned sord, convert objkeys to a dict\n",
    "data = [objkeys_to_dict(sord.obj_keys) for sord in cleaned]\n",
    "data[0]"
   ]
  },
  {
   "cell_type": "code",
   "execution_count": 22,
   "id": "722f74e4fa764ad3",
   "metadata": {
    "ExecuteTime": {
     "end_time": "2024-03-19T23:01:06.142677100Z",
     "start_time": "2024-03-19T23:01:06.130234Z"
    },
    "collapsed": false,
    "jupyter": {
     "outputs_hidden": false
    }
   },
   "outputs": [],
   "source": [
    "# Convert to pandas dataframe\n",
    "import pandas as pd\n",
    "df = pd.DataFrame(data)"
   ]
  },
  {
   "cell_type": "code",
   "execution_count": 23,
   "id": "65a42219692ecb1d",
   "metadata": {
    "ExecuteTime": {
     "end_time": "2024-03-19T23:03:22.774149Z",
     "start_time": "2024-03-19T23:03:22.763425100Z"
    },
    "collapsed": false,
    "jupyter": {
     "outputs_hidden": false
    }
   },
   "outputs": [
    {
     "data": {
      "text/html": [
       "<div>\n",
       "<style scoped>\n",
       "    .dataframe tbody tr th:only-of-type {\n",
       "        vertical-align: middle;\n",
       "    }\n",
       "\n",
       "    .dataframe tbody tr th {\n",
       "        vertical-align: top;\n",
       "    }\n",
       "\n",
       "    .dataframe thead th {\n",
       "        text-align: right;\n",
       "    }\n",
       "</style>\n",
       "<table border=\"1\" class=\"dataframe\">\n",
       "  <thead>\n",
       "    <tr style=\"text-align: right;\">\n",
       "      <th></th>\n",
       "      <th>SALE_NAME</th>\n",
       "      <th>SALE_PRODUCT</th>\n",
       "      <th>SALE_AMOUNT</th>\n",
       "      <th>SALE_DATE</th>\n",
       "    </tr>\n",
       "  </thead>\n",
       "  <tbody>\n",
       "    <tr>\n",
       "      <th>0</th>\n",
       "      <td>10100 S18_1749 Online Diecast Creations Co.</td>\n",
       "      <td>Vintage Cars</td>\n",
       "      <td>3000.00</td>\n",
       "      <td>20030106000000</td>\n",
       "    </tr>\n",
       "    <tr>\n",
       "      <th>1</th>\n",
       "      <td>10100 S18_2248 Online Diecast Creations Co.</td>\n",
       "      <td>Vintage Cars</td>\n",
       "      <td>3390.00</td>\n",
       "      <td>20030106000000</td>\n",
       "    </tr>\n",
       "    <tr>\n",
       "      <th>2</th>\n",
       "      <td>10100 S18_4409 Online Diecast Creations Co.</td>\n",
       "      <td>Vintage Cars</td>\n",
       "      <td>1903.22</td>\n",
       "      <td>20030106000000</td>\n",
       "    </tr>\n",
       "    <tr>\n",
       "      <th>3</th>\n",
       "      <td>10100 S24_3969 Online Diecast Creations Co.</td>\n",
       "      <td>Vintage Cars</td>\n",
       "      <td>1689.03</td>\n",
       "      <td>20030106000000</td>\n",
       "    </tr>\n",
       "    <tr>\n",
       "      <th>4</th>\n",
       "      <td>10101 S18_2325 Blauer See Auto, Co.</td>\n",
       "      <td>Vintage Cars</td>\n",
       "      <td>2500.00</td>\n",
       "      <td>20030109000000</td>\n",
       "    </tr>\n",
       "    <tr>\n",
       "      <th>...</th>\n",
       "      <td>...</td>\n",
       "      <td>...</td>\n",
       "      <td>...</td>\n",
       "      <td>...</td>\n",
       "    </tr>\n",
       "    <tr>\n",
       "      <th>2822</th>\n",
       "      <td>10425 S50_1392 La Rochelle Gifts</td>\n",
       "      <td>Trucks and Buses</td>\n",
       "      <td>1800.00</td>\n",
       "      <td>20050531000000</td>\n",
       "    </tr>\n",
       "    <tr>\n",
       "      <th>2823</th>\n",
       "      <td>Firewall</td>\n",
       "      <td>Infrastructure</td>\n",
       "      <td>400.00</td>\n",
       "      <td>20240310000000</td>\n",
       "    </tr>\n",
       "    <tr>\n",
       "      <th>2824</th>\n",
       "      <td>Portait Lizenz - Spesenverwaltung</td>\n",
       "      <td>Portrait License</td>\n",
       "      <td>1000.00</td>\n",
       "      <td>20240315000000</td>\n",
       "    </tr>\n",
       "    <tr>\n",
       "      <th>2825</th>\n",
       "      <td>Portrait Lizenz</td>\n",
       "      <td>Portrait License</td>\n",
       "      <td>800.00</td>\n",
       "      <td>20240318000000</td>\n",
       "    </tr>\n",
       "    <tr>\n",
       "      <th>2826</th>\n",
       "      <td>Windows Server</td>\n",
       "      <td>Infrastructure</td>\n",
       "      <td>1500.00</td>\n",
       "      <td>20240310000000</td>\n",
       "    </tr>\n",
       "  </tbody>\n",
       "</table>\n",
       "<p>2827 rows × 4 columns</p>\n",
       "</div>"
      ],
      "text/plain": [
       "                                        SALE_NAME      SALE_PRODUCT  \\\n",
       "0     10100 S18_1749 Online Diecast Creations Co.      Vintage Cars   \n",
       "1     10100 S18_2248 Online Diecast Creations Co.      Vintage Cars   \n",
       "2     10100 S18_4409 Online Diecast Creations Co.      Vintage Cars   \n",
       "3     10100 S24_3969 Online Diecast Creations Co.      Vintage Cars   \n",
       "4             10101 S18_2325 Blauer See Auto, Co.      Vintage Cars   \n",
       "...                                           ...               ...   \n",
       "2822             10425 S50_1392 La Rochelle Gifts  Trucks and Buses   \n",
       "2823                                     Firewall    Infrastructure   \n",
       "2824            Portait Lizenz - Spesenverwaltung  Portrait License   \n",
       "2825                              Portrait Lizenz  Portrait License   \n",
       "2826                               Windows Server    Infrastructure   \n",
       "\n",
       "     SALE_AMOUNT       SALE_DATE  \n",
       "0        3000.00  20030106000000  \n",
       "1        3390.00  20030106000000  \n",
       "2        1903.22  20030106000000  \n",
       "3        1689.03  20030106000000  \n",
       "4        2500.00  20030109000000  \n",
       "...          ...             ...  \n",
       "2822     1800.00  20050531000000  \n",
       "2823      400.00  20240310000000  \n",
       "2824     1000.00  20240315000000  \n",
       "2825      800.00  20240318000000  \n",
       "2826     1500.00  20240310000000  \n",
       "\n",
       "[2827 rows x 4 columns]"
      ]
     },
     "execution_count": 23,
     "metadata": {},
     "output_type": "execute_result"
    }
   ],
   "source": [
    "df"
   ]
  },
  {
   "cell_type": "code",
   "execution_count": 24,
   "id": "bca63f112554fe4f",
   "metadata": {
    "ExecuteTime": {
     "end_time": "2024-03-19T23:03:36.291384500Z",
     "start_time": "2024-03-19T23:03:36.272299500Z"
    },
    "collapsed": false,
    "jupyter": {
     "outputs_hidden": false
    }
   },
   "outputs": [
    {
     "data": {
      "text/html": [
       "<div>\n",
       "<style scoped>\n",
       "    .dataframe tbody tr th:only-of-type {\n",
       "        vertical-align: middle;\n",
       "    }\n",
       "\n",
       "    .dataframe tbody tr th {\n",
       "        vertical-align: top;\n",
       "    }\n",
       "\n",
       "    .dataframe thead th {\n",
       "        text-align: right;\n",
       "    }\n",
       "</style>\n",
       "<table border=\"1\" class=\"dataframe\">\n",
       "  <thead>\n",
       "    <tr style=\"text-align: right;\">\n",
       "      <th></th>\n",
       "      <th>SALE_NAME</th>\n",
       "      <th>SALE_PRODUCT</th>\n",
       "      <th>SALE_AMOUNT</th>\n",
       "      <th>SALE_DATE</th>\n",
       "    </tr>\n",
       "  </thead>\n",
       "  <tbody>\n",
       "    <tr>\n",
       "      <th>0</th>\n",
       "      <td>10100 S18_1749 Online Diecast Creations Co.</td>\n",
       "      <td>Vintage Cars</td>\n",
       "      <td>3000.00</td>\n",
       "      <td>2003-01-06</td>\n",
       "    </tr>\n",
       "    <tr>\n",
       "      <th>1</th>\n",
       "      <td>10100 S18_2248 Online Diecast Creations Co.</td>\n",
       "      <td>Vintage Cars</td>\n",
       "      <td>3390.00</td>\n",
       "      <td>2003-01-06</td>\n",
       "    </tr>\n",
       "    <tr>\n",
       "      <th>2</th>\n",
       "      <td>10100 S18_4409 Online Diecast Creations Co.</td>\n",
       "      <td>Vintage Cars</td>\n",
       "      <td>1903.22</td>\n",
       "      <td>2003-01-06</td>\n",
       "    </tr>\n",
       "    <tr>\n",
       "      <th>3</th>\n",
       "      <td>10100 S24_3969 Online Diecast Creations Co.</td>\n",
       "      <td>Vintage Cars</td>\n",
       "      <td>1689.03</td>\n",
       "      <td>2003-01-06</td>\n",
       "    </tr>\n",
       "    <tr>\n",
       "      <th>4</th>\n",
       "      <td>10101 S18_2325 Blauer See Auto, Co.</td>\n",
       "      <td>Vintage Cars</td>\n",
       "      <td>2500.00</td>\n",
       "      <td>2003-01-09</td>\n",
       "    </tr>\n",
       "    <tr>\n",
       "      <th>...</th>\n",
       "      <td>...</td>\n",
       "      <td>...</td>\n",
       "      <td>...</td>\n",
       "      <td>...</td>\n",
       "    </tr>\n",
       "    <tr>\n",
       "      <th>2822</th>\n",
       "      <td>10425 S50_1392 La Rochelle Gifts</td>\n",
       "      <td>Trucks and Buses</td>\n",
       "      <td>1800.00</td>\n",
       "      <td>2005-05-31</td>\n",
       "    </tr>\n",
       "    <tr>\n",
       "      <th>2823</th>\n",
       "      <td>Firewall</td>\n",
       "      <td>Infrastructure</td>\n",
       "      <td>400.00</td>\n",
       "      <td>2024-03-10</td>\n",
       "    </tr>\n",
       "    <tr>\n",
       "      <th>2824</th>\n",
       "      <td>Portait Lizenz - Spesenverwaltung</td>\n",
       "      <td>Portrait License</td>\n",
       "      <td>1000.00</td>\n",
       "      <td>2024-03-15</td>\n",
       "    </tr>\n",
       "    <tr>\n",
       "      <th>2825</th>\n",
       "      <td>Portrait Lizenz</td>\n",
       "      <td>Portrait License</td>\n",
       "      <td>800.00</td>\n",
       "      <td>2024-03-18</td>\n",
       "    </tr>\n",
       "    <tr>\n",
       "      <th>2826</th>\n",
       "      <td>Windows Server</td>\n",
       "      <td>Infrastructure</td>\n",
       "      <td>1500.00</td>\n",
       "      <td>2024-03-10</td>\n",
       "    </tr>\n",
       "  </tbody>\n",
       "</table>\n",
       "<p>2827 rows × 4 columns</p>\n",
       "</div>"
      ],
      "text/plain": [
       "                                        SALE_NAME      SALE_PRODUCT  \\\n",
       "0     10100 S18_1749 Online Diecast Creations Co.      Vintage Cars   \n",
       "1     10100 S18_2248 Online Diecast Creations Co.      Vintage Cars   \n",
       "2     10100 S18_4409 Online Diecast Creations Co.      Vintage Cars   \n",
       "3     10100 S24_3969 Online Diecast Creations Co.      Vintage Cars   \n",
       "4             10101 S18_2325 Blauer See Auto, Co.      Vintage Cars   \n",
       "...                                           ...               ...   \n",
       "2822             10425 S50_1392 La Rochelle Gifts  Trucks and Buses   \n",
       "2823                                     Firewall    Infrastructure   \n",
       "2824            Portait Lizenz - Spesenverwaltung  Portrait License   \n",
       "2825                              Portrait Lizenz  Portrait License   \n",
       "2826                               Windows Server    Infrastructure   \n",
       "\n",
       "      SALE_AMOUNT  SALE_DATE  \n",
       "0         3000.00 2003-01-06  \n",
       "1         3390.00 2003-01-06  \n",
       "2         1903.22 2003-01-06  \n",
       "3         1689.03 2003-01-06  \n",
       "4         2500.00 2003-01-09  \n",
       "...           ...        ...  \n",
       "2822      1800.00 2005-05-31  \n",
       "2823       400.00 2024-03-10  \n",
       "2824      1000.00 2024-03-15  \n",
       "2825       800.00 2024-03-18  \n",
       "2826      1500.00 2024-03-10  \n",
       "\n",
       "[2827 rows x 4 columns]"
      ]
     },
     "execution_count": 24,
     "metadata": {},
     "output_type": "execute_result"
    }
   ],
   "source": [
    "# convert SALE_AMOUNT to float\n",
    "df[\"SALE_AMOUNT\"] = df[\"SALE_AMOUNT\"].astype(float)\n",
    "# convert SALE_DATE to datetime\n",
    "df[\"SALE_DATE\"] = pd.to_datetime(df[\"SALE_DATE\"])\n",
    "\n",
    "df"
   ]
  },
  {
   "cell_type": "code",
   "execution_count": 25,
   "id": "18da43e15317cf53",
   "metadata": {
    "ExecuteTime": {
     "end_time": "2024-03-19T23:18:01.792996200Z",
     "start_time": "2024-03-19T23:18:01.099534900Z"
    },
    "collapsed": false,
    "jupyter": {
     "outputs_hidden": false
    }
   },
   "outputs": [
    {
     "data": {
      "image/png": "[encoded data removed]",
      "text/plain": [
       "<Figure size 1000x600 with 1 Axes>"
      ]
     },
     "metadata": {},
     "output_type": "display_data"
    }
   ],
   "source": [
    "# generate a chart with seaborn\n",
    "import seaborn as sns\n",
    "import matplotlib.pyplot as plt\n",
    "sns.set_theme(style=\"whitegrid\")\n",
    "plt.figure(figsize=(10, 6))\n",
    "sns.barplot(x=\"SALE_PRODUCT\", y=\"SALE_AMOUNT\", data=df, estimator=\"mean\")\n",
    "plt.xticks(rotation=45)\n",
    "plt.savefig(\"sales.png\", dpi=300, bbox_inches=\"tight\")\n",
    "plt.show()"
   ]
  },
  {
   "cell_type": "markdown",
   "id": "da52c1a3a4ad62ae",
   "metadata": {
    "collapsed": false,
    "jupyter": {
     "outputs_hidden": false
    }
   },
   "source": [
    "## use reportlab to generate a PDF with the sale statistics chart and table"
   ]
  },
  {
   "cell_type": "code",
   "execution_count": 26,
   "id": "aea3f1fa53a749f3",
   "metadata": {
    "ExecuteTime": {
     "end_time": "2024-03-19T23:36:15.692688400Z",
     "start_time": "2024-03-19T23:36:14.582050400Z"
    },
    "collapsed": false,
    "jupyter": {
     "outputs_hidden": false
    }
   },
   "outputs": [],
   "source": [
    "import io\n",
    "import reportlab as rl\n",
    "from reportlab.lib.pagesizes import letter\n",
    "from reportlab.platypus import SimpleDocTemplate, Table, TableStyle, Paragraph\n",
    "from reportlab.lib.styles import getSampleStyleSheet\n",
    "\n",
    "\n",
    "# create a buffer\n",
    "buffer = io.BytesIO()\n",
    "# create a PDF\n",
    "doc = SimpleDocTemplate(buffer, pagesize=letter)\n",
    "stylesheet=getSampleStyleSheet()\n",
    "elements = []\n",
    "# add a title\n",
    "elements.append(Paragraph(\"Sales Statistics\", style=stylesheet['Title']))\n",
    "elements.append(rl.platypus.Spacer(1, 12))\n",
    "\n",
    "# create a table\n",
    "data = [df.columns[:,].tolist()] + df.values.tolist()\n",
    "table = Table(data)\n",
    "# add style\n",
    "style = TableStyle([('BACKGROUND', (0, 0), (-1, 0), rl.lib.colors.grey),\n",
    "                    ('TEXTCOLOR', (0, 0), (-1, 0), rl.lib.colors.whitesmoke),\n",
    "                    ('ALIGN', (0, 0), (-1, -1), 'CENTER'),\n",
    "                    ('FONTNAME', (0, 0), (-1, 0), 'Helvetica-Bold'),\n",
    "                    ('BOTTOMPADDING', (0, 0), (-1, 0), 12),\n",
    "                    ('BACKGROUND', (0, 1), (-1, -1), rl.lib.colors.beige),\n",
    "                    ('GRID', (0, 0), (-1, -1), 1, rl.lib.colors.black)])\n",
    "table.setStyle(style)\n",
    "# add table to the PDF\n",
    "elements.extend([table, rl.platypus.Spacer(1, 12)])\n",
    "\n",
    "# add sales.png to the PDF\n",
    "from reportlab.lib.pagesizes import letter\n",
    "from reportlab.platypus import Image\n",
    "img = Image(\"sales.png\", 5*rl.lib.units.inch, 3*rl.lib.units.inch)\n",
    "elements.append(img)\n",
    "\n",
    "# add some space\n",
    "elements.append(rl.platypus.Spacer(1, 12))\n",
    "\n",
    "# add a barcode\n",
    "from reportlab.graphics.barcode import code39\n",
    "from reportlab.graphics.shapes import Drawing\n",
    "bc = code39.Extended39(\"1234567890\", barWidth=0.5*rl.lib.units.mm, barHeight=15*rl.lib.units.mm)\n",
    "elements.append(bc)\n",
    "\n",
    "doc.build(elements)\n",
    "# get the PDF as a byte string\n",
    "pdf = buffer.getvalue()\n",
    "buffer.close()\n",
    "\n",
    "# save the PDF to a file\n",
    "with open(\"sales.pdf\", \"wb\") as f:\n",
    "    f.write(pdf)\n",
    "    "
   ]
  }
 ],
 "metadata": {
  "kernelspec": {
   "display_name": "Python 3 (ipykernel)",
   "language": "python",
   "name": "python3"
  },
  "language_info": {
   "codemirror_mode": {
    "name": "ipython",
    "version": 3
   },
   "file_extension": ".py",
   "mimetype": "text/x-python",
   "name": "python",
   "nbconvert_exporter": "python",
   "pygments_lexer": "ipython3",
   "version": "3.12.2"
  }
 },
 "nbformat": 4,
 "nbformat_minor": 5
}
