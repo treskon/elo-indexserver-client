{
 "cells": [
  {
   "cell_type": "markdown",
   "source": [],
   "metadata": {
    "collapsed": false
   },
   "id": "8d1e1b561eb80314"
  },
  {
   "cell_type": "markdown",
   "id": "1ecf897e",
   "metadata": {
    "collapsed": true
   },
   "source": [
    "# Examples of the ELO Python Client"
   ]
  },
  {
   "cell_type": "markdown",
   "id": "a7ffb53d",
   "metadata": {},
   "source": [
    "## Connect to ELO"
   ]
  },
  {
   "cell_type": "code",
   "execution_count": 6,
   "id": "74cea39e",
   "metadata": {
    "ExecuteTime": {
     "end_time": "2024-03-18T22:05:02.910530600Z",
     "start_time": "2024-03-18T22:05:02.864542700Z"
    }
   },
   "outputs": [],
   "source": [
    "from decouple import AutoConfig\n",
    "from eloservice.elo_service import EloService\n",
    "\n",
    "config = AutoConfig(search_path='./') # load .env file from current directory with connection details\n",
    "rest_baseurl = config(\"TEST_ELO_IX_URL\")\n",
    "rest_user = config(\"TEST_ELO_IX_USER\")\n",
    "rest_password = config(\"TEST_ELO_IX_PASSWORD\")\n",
    "elo_service = EloService(url=rest_baseurl, user=rest_user, password=rest_password)"
   ]
  },
  {
   "cell_type": "markdown",
   "source": [
    "### Load all sales"
   ],
   "metadata": {
    "collapsed": false
   },
   "id": "81d45a38f9793e82"
  },
  {
   "cell_type": "code",
   "execution_count": 7,
   "id": "7fa570c8c1d9caf4",
   "metadata": {
    "collapsed": false,
    "ExecuteTime": {
     "end_time": "2024-03-18T22:05:03.191646Z",
     "start_time": "2024-03-18T22:05:02.873978200Z"
    }
   },
   "outputs": [],
   "source": [
    "maskID = \"33\" #ID of our mask sales\n",
    "results = elo_service.search(search_mask_id=maskID)"
   ]
  },
  {
   "cell_type": "markdown",
   "source": [
    "### Load all sales details"
   ],
   "metadata": {
    "collapsed": false
   },
   "id": "d53ed71ff338fe95"
  },
  {
   "cell_type": "code",
   "outputs": [
    {
     "name": "stdout",
     "output_type": "stream",
     "text": [
      "Action definition\n",
      "Firewall\n",
      "Portait Lizenz - Spesenverwaltung\n",
      "Portrait Lizenz - Inventory Management\n",
      "sol.common_document.CreateCommunication\n",
      "sol.common_document.PdfExport\n",
      "sol.contact.as.actions.CreateContactReport\n",
      "sol.contact.as.actions.CreateLabel\n",
      "sol.contact.ix.actions.CreateCompany\n",
      "sol.contact.ix.actions.CreateContact\n",
      "sol.contact.ix.actions.CreateContactList\n",
      "sol.contract.ContractConcluded\n",
      "sol.contract.CreateCashFlowReport\n",
      "sol.contract.CreateClause\n",
      "sol.contract.CreateContract\n",
      "sol.contract.CreateContractsReport\n",
      "sol.contract.CreateCoverSheet\n",
      "sol.contract.CreateDocument\n",
      "sol.contract.CreateLabel\n",
      "sol.contract.EditClauses\n",
      "sol.contract.InitiateApproval\n",
      "sol.contract.InitiateTermination\n",
      "sol.contract.NegotiateContract\n",
      "sol.contract.NegotiationCanceled\n",
      "sol.contract.UpdateDocument\n",
      "sol.dev.function.Deploy\n",
      "sol.dev.function.Undeploy\n",
      "sol.dev.ix.actions.CreatePackage\n",
      "trskn.inventory.CreateAsset\n",
      "Windows Server\n"
     ]
    }
   ],
   "source": [
    "# checkout all results\n",
    "checked_out = []\n",
    "for result in results:\n",
    "    sord = elo_service.checkout(result)\n",
    "    checked_out.append(sord)\n",
    "    print(sord.name)"
   ],
   "metadata": {
    "collapsed": false,
    "ExecuteTime": {
     "end_time": "2024-03-18T22:05:03.992938Z",
     "start_time": "2024-03-18T22:05:03.194153600Z"
    }
   },
   "id": "874f1fa70b3d59f4",
   "execution_count": 8
  },
  {
   "cell_type": "markdown",
   "source": [
    "We get a bunch of technical sords which we want to filter out."
   ],
   "metadata": {
    "collapsed": false
   },
   "id": "8398d85eea58742"
  },
  {
   "cell_type": "code",
   "outputs": [
    {
     "name": "stdout",
     "output_type": "stream",
     "text": [
      "Firewall\n",
      "Portait Lizenz - Spesenverwaltung\n",
      "Portrait Lizenz - Inventory Management\n",
      "Windows Server\n"
     ]
    }
   ],
   "source": [
    "import re\n",
    "blacklist = [\"Action definition\", \"sol.*\", \"trskn.inventory.*\"]\n",
    "cleaned = []\n",
    "for result in checked_out:\n",
    "    for black in blacklist:\n",
    "        if re.match(black, result.name):\n",
    "            break\n",
    "    else:\n",
    "        cleaned.append(result)\n",
    "for result in cleaned:\n",
    "    print(result.name)"
   ],
   "metadata": {
    "collapsed": false,
    "ExecuteTime": {
     "end_time": "2024-03-18T22:05:03.992938Z",
     "start_time": "2024-03-18T22:05:03.986647300Z"
    }
   },
   "id": "134eb26f0e8272d0",
   "execution_count": 9
  },
  {
   "cell_type": "code",
   "outputs": [
    {
     "data": {
      "text/plain": "[ObjKey(data=['Firewall'], display_data=<eloclient.types.Unset object at 0x0000021290465040>, id=0, name='SALE_NAME', obj_id=6250, additional_properties={}),\n ObjKey(data=['Infrastructure'], display_data=<eloclient.types.Unset object at 0x0000021290465040>, id=1, name='SALE_PRODUCT', obj_id=6250, additional_properties={}),\n ObjKey(data=['400.00'], display_data=<eloclient.types.Unset object at 0x0000021290465040>, id=2, name='SALE_AMOUNT', obj_id=6250, additional_properties={}),\n ObjKey(data=['20240310000000'], display_data=<eloclient.types.Unset object at 0x0000021290465040>, id=3, name='SALE_DATE', obj_id=6250, additional_properties={})]"
     },
     "execution_count": 10,
     "metadata": {},
     "output_type": "execute_result"
    }
   ],
   "source": [
    "cleaned[0].obj_keys"
   ],
   "metadata": {
    "collapsed": false,
    "ExecuteTime": {
     "end_time": "2024-03-18T22:05:04.008204Z",
     "start_time": "2024-03-18T22:05:03.991833Z"
    }
   },
   "id": "30ba6869e888cc2f",
   "execution_count": 10
  },
  {
   "cell_type": "code",
   "outputs": [
    {
     "data": {
      "text/plain": "[{'SALE_NAME': 'Firewall',\n  'SALE_PRODUCT': 'Infrastructure',\n  'SALE_AMOUNT': '400.00',\n  'SALE_DATE': '20240310000000'},\n {'SALE_NAME': 'Portait Lizenz - Spesenverwaltung',\n  'SALE_PRODUCT': 'Portrait License',\n  'SALE_AMOUNT': '1000.00',\n  'SALE_DATE': '20240315000000'},\n {'SALE_NAME': 'Portrait Lizenz',\n  'SALE_PRODUCT': 'Portrait License',\n  'SALE_AMOUNT': '800.00',\n  'SALE_DATE': '20240318000000'},\n {'SALE_NAME': 'Windows Server',\n  'SALE_PRODUCT': 'Infrastructure',\n  'SALE_AMOUNT': '1500.00',\n  'SALE_DATE': '20240310000000'}]"
     },
     "execution_count": 11,
     "metadata": {},
     "output_type": "execute_result"
    }
   ],
   "source": [
    "## convert objkeys to a dict\n",
    "def objkeys_to_dict(objkeys):\n",
    "    return {objkey.name: objkey.data[0] for objkey in objkeys}\n",
    "\n",
    "# for each cleaned sord, convert objkeys to a dict\n",
    "data = [objkeys_to_dict(sord.obj_keys) for sord in cleaned]\n",
    "data"
   ],
   "metadata": {
    "collapsed": false,
    "ExecuteTime": {
     "end_time": "2024-03-18T22:05:04.009204600Z",
     "start_time": "2024-03-18T22:05:03.997439400Z"
    }
   },
   "id": "ea8f152e71b4df51",
   "execution_count": 11
  },
  {
   "cell_type": "code",
   "outputs": [],
   "source": [
    "# Convert to pandas dataframe\n",
    "import pandas as pd\n",
    "df = pd.DataFrame(data)"
   ],
   "metadata": {
    "collapsed": false,
    "ExecuteTime": {
     "end_time": "2024-03-18T22:05:04.369820Z",
     "start_time": "2024-03-18T22:05:04.007204100Z"
    }
   },
   "id": "722f74e4fa764ad3",
   "execution_count": 12
  },
  {
   "cell_type": "code",
   "outputs": [
    {
     "data": {
      "text/plain": "                           SALE_NAME      SALE_PRODUCT SALE_AMOUNT  \\\n0                           Firewall    Infrastructure      400.00   \n1  Portait Lizenz - Spesenverwaltung  Portrait License     1000.00   \n2                    Portrait Lizenz  Portrait License      800.00   \n3                     Windows Server    Infrastructure     1500.00   \n\n        SALE_DATE  \n0  20240310000000  \n1  20240315000000  \n2  20240318000000  \n3  20240310000000  ",
      "text/html": "<div>\n<style scoped>\n    .dataframe tbody tr th:only-of-type {\n        vertical-align: middle;\n    }\n\n    .dataframe tbody tr th {\n        vertical-align: top;\n    }\n\n    .dataframe thead th {\n        text-align: right;\n    }\n</style>\n<table border=\"1\" class=\"dataframe\">\n  <thead>\n    <tr style=\"text-align: right;\">\n      <th></th>\n      <th>SALE_NAME</th>\n      <th>SALE_PRODUCT</th>\n      <th>SALE_AMOUNT</th>\n      <th>SALE_DATE</th>\n    </tr>\n  </thead>\n  <tbody>\n    <tr>\n      <th>0</th>\n      <td>Firewall</td>\n      <td>Infrastructure</td>\n      <td>400.00</td>\n      <td>20240310000000</td>\n    </tr>\n    <tr>\n      <th>1</th>\n      <td>Portait Lizenz - Spesenverwaltung</td>\n      <td>Portrait License</td>\n      <td>1000.00</td>\n      <td>20240315000000</td>\n    </tr>\n    <tr>\n      <th>2</th>\n      <td>Portrait Lizenz</td>\n      <td>Portrait License</td>\n      <td>800.00</td>\n      <td>20240318000000</td>\n    </tr>\n    <tr>\n      <th>3</th>\n      <td>Windows Server</td>\n      <td>Infrastructure</td>\n      <td>1500.00</td>\n      <td>20240310000000</td>\n    </tr>\n  </tbody>\n</table>\n</div>"
     },
     "execution_count": 13,
     "metadata": {},
     "output_type": "execute_result"
    }
   ],
   "source": [
    "df"
   ],
   "metadata": {
    "collapsed": false,
    "ExecuteTime": {
     "end_time": "2024-03-18T22:05:04.381663600Z",
     "start_time": "2024-03-18T22:05:04.369820Z"
    }
   },
   "id": "65a42219692ecb1d",
   "execution_count": 13
  },
  {
   "cell_type": "code",
   "outputs": [
    {
     "data": {
      "text/plain": "                           SALE_NAME      SALE_PRODUCT  SALE_AMOUNT  SALE_DATE\n0                           Firewall    Infrastructure        400.0 2024-03-10\n1  Portait Lizenz - Spesenverwaltung  Portrait License       1000.0 2024-03-15\n2                    Portrait Lizenz  Portrait License        800.0 2024-03-18\n3                     Windows Server    Infrastructure       1500.0 2024-03-10",
      "text/html": "<div>\n<style scoped>\n    .dataframe tbody tr th:only-of-type {\n        vertical-align: middle;\n    }\n\n    .dataframe tbody tr th {\n        vertical-align: top;\n    }\n\n    .dataframe thead th {\n        text-align: right;\n    }\n</style>\n<table border=\"1\" class=\"dataframe\">\n  <thead>\n    <tr style=\"text-align: right;\">\n      <th></th>\n      <th>SALE_NAME</th>\n      <th>SALE_PRODUCT</th>\n      <th>SALE_AMOUNT</th>\n      <th>SALE_DATE</th>\n    </tr>\n  </thead>\n  <tbody>\n    <tr>\n      <th>0</th>\n      <td>Firewall</td>\n      <td>Infrastructure</td>\n      <td>400.0</td>\n      <td>2024-03-10</td>\n    </tr>\n    <tr>\n      <th>1</th>\n      <td>Portait Lizenz - Spesenverwaltung</td>\n      <td>Portrait License</td>\n      <td>1000.0</td>\n      <td>2024-03-15</td>\n    </tr>\n    <tr>\n      <th>2</th>\n      <td>Portrait Lizenz</td>\n      <td>Portrait License</td>\n      <td>800.0</td>\n      <td>2024-03-18</td>\n    </tr>\n    <tr>\n      <th>3</th>\n      <td>Windows Server</td>\n      <td>Infrastructure</td>\n      <td>1500.0</td>\n      <td>2024-03-10</td>\n    </tr>\n  </tbody>\n</table>\n</div>"
     },
     "execution_count": 14,
     "metadata": {},
     "output_type": "execute_result"
    }
   ],
   "source": [
    "# convert SALE_AMOUNT to float\n",
    "df[\"SALE_AMOUNT\"] = df[\"SALE_AMOUNT\"].astype(float)\n",
    "# convert SALE_DATE to datetime\n",
    "df[\"SALE_DATE\"] = pd.to_datetime(df[\"SALE_DATE\"])\n",
    "\n",
    "df"
   ],
   "metadata": {
    "collapsed": false,
    "ExecuteTime": {
     "end_time": "2024-03-18T22:05:04.393941900Z",
     "start_time": "2024-03-18T22:05:04.380156300Z"
    }
   },
   "id": "bca63f112554fe4f",
   "execution_count": 14
  },
  {
   "cell_type": "code",
   "outputs": [
    {
     "data": {
      "text/plain": "<Figure size 1000x600 with 1 Axes>",
      "image/png": "[encoded data removed]"
     },
     "metadata": {},
     "output_type": "display_data"
    }
   ],
   "source": [
    "# generate a chart with seaborn\n",
    "import seaborn as sns\n",
    "import matplotlib.pyplot as plt\n",
    "sns.set_theme(style=\"whitegrid\")\n",
    "plt.figure(figsize=(10, 6))\n",
    "sns.barplot(x=\"SALE_PRODUCT\", y=\"SALE_AMOUNT\", data=df)\n",
    "plt.xticks(rotation=45)\n",
    "plt.savefig(\"sales.png\", dpi=300, bbox_inches=\"tight\")\n",
    "plt.show()"
   ],
   "metadata": {
    "collapsed": false,
    "ExecuteTime": {
     "end_time": "2024-03-18T22:05:05.345473500Z",
     "start_time": "2024-03-18T22:05:04.392941600Z"
    }
   },
   "id": "18da43e15317cf53",
   "execution_count": 15
  },
  {
   "cell_type": "markdown",
   "source": [
    "## use reportlab to generate a PDF with the sale statistics chart and table"
   ],
   "metadata": {
    "collapsed": false
   },
   "id": "da52c1a3a4ad62ae"
  },
  {
   "cell_type": "code",
   "outputs": [],
   "source": [
    "import io\n",
    "import reportlab as rl\n",
    "from reportlab.lib.pagesizes import letter\n",
    "from reportlab.platypus import SimpleDocTemplate, Table, TableStyle\n",
    "\n",
    "# create a buffer\n",
    "buffer = io.BytesIO()\n",
    "# create a PDF\n",
    "doc = SimpleDocTemplate(buffer, pagesize=letter)\n",
    "# create a table\n",
    "data = [df.columns[:,].tolist()] + df.values.tolist()\n",
    "table = Table(data)\n",
    "# add style\n",
    "style = TableStyle([('BACKGROUND', (0, 0), (-1, 0), rl.lib.colors.grey),\n",
    "                    ('TEXTCOLOR', (0, 0), (-1, 0), rl.lib.colors.whitesmoke),\n",
    "                    ('ALIGN', (0, 0), (-1, -1), 'CENTER'),\n",
    "                    ('FONTNAME', (0, 0), (-1, 0), 'Helvetica-Bold'),\n",
    "                    ('BOTTOMPADDING', (0, 0), (-1, 0), 12),\n",
    "                    ('BACKGROUND', (0, 1), (-1, -1), rl.lib.colors.beige),\n",
    "                    ('GRID', (0, 0), (-1, -1), 1, rl.lib.colors.black)])\n",
    "table.setStyle(style)\n",
    "# add table to the PDF\n",
    "elements = [table, rl.platypus.Spacer(1, 12)]\n",
    "\n",
    "# add some space\n",
    "\n",
    "# add sales.png to the PDF\n",
    "from reportlab.lib.pagesizes import letter\n",
    "from reportlab.platypus import Image\n",
    "img = Image(\"sales.png\", 5*rl.lib.units.inch, 3*rl.lib.units.inch)\n",
    "elements.append(img)\n",
    "\n",
    "# add some space\n",
    "elements.append(rl.platypus.Spacer(1, 12))\n",
    "\n",
    "# add a barcode\n",
    "from reportlab.graphics.barcode import code39\n",
    "from reportlab.graphics.shapes import Drawing\n",
    "d = Drawing(50, 10)\n",
    "bc = code39.Extended39(\"1234567890\", barWidth=0.5*rl.lib.units.mm, barHeight=15*rl.lib.units.mm)\n",
    "elements.append(bc)\n",
    "\n",
    "doc.build(elements)\n",
    "# get the PDF as a byte string\n",
    "pdf = buffer.getvalue()\n",
    "buffer.close()\n",
    "\n",
    "# save the PDF to a file\n",
    "with open(\"sales.pdf\", \"wb\") as f:\n",
    "    f.write(pdf)\n",
    "    "
   ],
   "metadata": {
    "collapsed": false,
    "ExecuteTime": {
     "end_time": "2024-03-18T22:05:05.773809300Z",
     "start_time": "2024-03-18T22:05:05.346477Z"
    }
   },
   "id": "aea3f1fa53a749f3",
   "execution_count": 16
  },
  {
   "cell_type": "code",
   "execution_count": 19,
   "outputs": [
    {
     "data": {
      "text/plain": "<IPython.core.display.Markdown object>",
      "text/markdown": "[sales.pdf](sales.pdf)"
     },
     "metadata": {},
     "output_type": "display_data"
    }
   ],
   "source": [],
   "metadata": {
    "collapsed": false,
    "ExecuteTime": {
     "end_time": "2024-03-18T22:06:16.230169800Z",
     "start_time": "2024-03-18T22:06:16.210675600Z"
    }
   },
   "id": "92f012867135ec7"
  },
  {
   "cell_type": "code",
   "execution_count": null,
   "outputs": [],
   "source": [],
   "metadata": {
    "collapsed": false
   },
   "id": "27a307edfe3883d4"
  },
  {
   "cell_type": "markdown",
   "source": [],
   "metadata": {
    "collapsed": false
   },
   "id": "3f33d46edfa9dc2e"
  }
 ],
 "metadata": {
  "kernelspec": {
   "display_name": "Python 3 (ipykernel)",
   "language": "python",
   "name": "python3"
  },
  "language_info": {
   "codemirror_mode": {
    "name": "ipython",
    "version": 3
   },
   "file_extension": ".py",
   "mimetype": "text/x-python",
   "name": "python",
   "nbconvert_exporter": "python",
   "pygments_lexer": "ipython3",
   "version": "3.12.1"
  }
 },
 "nbformat": 4,
 "nbformat_minor": 5
}
