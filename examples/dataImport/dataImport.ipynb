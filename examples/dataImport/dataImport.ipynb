{
 "cells": [
  {
   "cell_type": "markdown",
   "source": [],
   "metadata": {
    "collapsed": false
   },
   "id": "8d1e1b561eb80314"
  },
  {
   "cell_type": "markdown",
   "id": "1ecf897e",
   "metadata": {
    "collapsed": true
   },
   "source": [
    "# Examples of the ELO Python Client"
   ]
  },
  {
   "cell_type": "markdown",
   "id": "a7ffb53d",
   "metadata": {},
   "source": [
    "## Connect to ELO"
   ]
  },
  {
   "cell_type": "code",
   "execution_count": 1,
   "id": "74cea39e",
   "metadata": {
    "ExecuteTime": {
     "end_time": "2024-03-18T23:42:12.613412200Z",
     "start_time": "2024-03-18T23:42:10.396503700Z"
    }
   },
   "outputs": [],
   "source": [
    "from decouple import AutoConfig\n",
    "from eloservice.elo_service import EloService\n",
    "\n",
    "def load_elo_service():\n",
    "    config = AutoConfig(search_path='./') # load .env file from current directory with connection details\n",
    "    rest_baseurl = config(\"TEST_ELO_IX_URL\")\n",
    "    rest_user = config(\"TEST_ELO_IX_USER\")\n",
    "    rest_password = config(\"TEST_ELO_IX_PASSWORD\")\n",
    "    return EloService(url=rest_baseurl, user=rest_user, password=rest_password)\n",
    "\n",
    "elo_service = load_elo_service()"
   ]
  },
  {
   "cell_type": "markdown",
   "source": [
    "## Load some demo dataset from kaggle"
   ],
   "metadata": {
    "collapsed": false
   },
   "id": "9a786341f20dbd4f"
  },
  {
   "cell_type": "code",
   "execution_count": 2,
   "outputs": [
    {
     "name": "stdout",
     "output_type": "stream",
     "text": [
      "Index(['ORDERNUMBER', 'QUANTITYORDERED', 'PRICEEACH', 'ORDERLINENUMBER',\n",
      "       'SALES', 'ORDERDATE', 'STATUS', 'QTR_ID', 'MONTH_ID', 'YEAR_ID',\n",
      "       'PRODUCTLINE', 'MSRP', 'PRODUCTCODE', 'CUSTOMERNAME', 'PHONE',\n",
      "       'ADDRESSLINE1', 'ADDRESSLINE2', 'CITY', 'STATE', 'POSTALCODE',\n",
      "       'COUNTRY', 'TERRITORY', 'CONTACTLASTNAME', 'CONTACTFIRSTNAME',\n",
      "       'DEALSIZE'],\n",
      "      dtype='object')\n"
     ]
    },
    {
     "data": {
      "text/plain": "   ORDERNUMBER  QUANTITYORDERED  PRICEEACH  ORDERLINENUMBER    SALES  \\\n0        10107               30      95.70                2  2871.00   \n1        10121               34      81.35                5  2765.90   \n2        10134               41      94.74                2  3884.34   \n3        10145               45      83.26                6  3746.70   \n4        10159               49     100.00               14  5205.27   \n\n         ORDERDATE   STATUS  QTR_ID  MONTH_ID  YEAR_ID  ...  \\\n0   2/24/2003 0:00  Shipped       1         2     2003  ...   \n1    5/7/2003 0:00  Shipped       2         5     2003  ...   \n2    7/1/2003 0:00  Shipped       3         7     2003  ...   \n3   8/25/2003 0:00  Shipped       3         8     2003  ...   \n4  10/10/2003 0:00  Shipped       4        10     2003  ...   \n\n                    ADDRESSLINE1  ADDRESSLINE2           CITY STATE  \\\n0        897 Long Airport Avenue           NaN            NYC    NY   \n1             59 rue de l'Abbaye           NaN          Reims   NaN   \n2  27 rue du Colonel Pierre Avia           NaN          Paris   NaN   \n3             78934 Hillside Dr.           NaN       Pasadena    CA   \n4                7734 Strong St.           NaN  San Francisco    CA   \n\n  POSTALCODE COUNTRY TERRITORY CONTACTLASTNAME CONTACTFIRSTNAME DEALSIZE  \n0      10022     USA       NaN              Yu             Kwai    Small  \n1      51100  France      EMEA         Henriot             Paul    Small  \n2      75508  France      EMEA        Da Cunha           Daniel   Medium  \n3      90003     USA       NaN           Young            Julie   Medium  \n4        NaN     USA       NaN           Brown            Julie   Medium  \n\n[5 rows x 25 columns]",
      "text/html": "<div>\n<style scoped>\n    .dataframe tbody tr th:only-of-type {\n        vertical-align: middle;\n    }\n\n    .dataframe tbody tr th {\n        vertical-align: top;\n    }\n\n    .dataframe thead th {\n        text-align: right;\n    }\n</style>\n<table border=\"1\" class=\"dataframe\">\n  <thead>\n    <tr style=\"text-align: right;\">\n      <th></th>\n      <th>ORDERNUMBER</th>\n      <th>QUANTITYORDERED</th>\n      <th>PRICEEACH</th>\n      <th>ORDERLINENUMBER</th>\n      <th>SALES</th>\n      <th>ORDERDATE</th>\n      <th>STATUS</th>\n      <th>QTR_ID</th>\n      <th>MONTH_ID</th>\n      <th>YEAR_ID</th>\n      <th>...</th>\n      <th>ADDRESSLINE1</th>\n      <th>ADDRESSLINE2</th>\n      <th>CITY</th>\n      <th>STATE</th>\n      <th>POSTALCODE</th>\n      <th>COUNTRY</th>\n      <th>TERRITORY</th>\n      <th>CONTACTLASTNAME</th>\n      <th>CONTACTFIRSTNAME</th>\n      <th>DEALSIZE</th>\n    </tr>\n  </thead>\n  <tbody>\n    <tr>\n      <th>0</th>\n      <td>10107</td>\n      <td>30</td>\n      <td>95.70</td>\n      <td>2</td>\n      <td>2871.00</td>\n      <td>2/24/2003 0:00</td>\n      <td>Shipped</td>\n      <td>1</td>\n      <td>2</td>\n      <td>2003</td>\n      <td>...</td>\n      <td>897 Long Airport Avenue</td>\n      <td>NaN</td>\n      <td>NYC</td>\n      <td>NY</td>\n      <td>10022</td>\n      <td>USA</td>\n      <td>NaN</td>\n      <td>Yu</td>\n      <td>Kwai</td>\n      <td>Small</td>\n    </tr>\n    <tr>\n      <th>1</th>\n      <td>10121</td>\n      <td>34</td>\n      <td>81.35</td>\n      <td>5</td>\n      <td>2765.90</td>\n      <td>5/7/2003 0:00</td>\n      <td>Shipped</td>\n      <td>2</td>\n      <td>5</td>\n      <td>2003</td>\n      <td>...</td>\n      <td>59 rue de l'Abbaye</td>\n      <td>NaN</td>\n      <td>Reims</td>\n      <td>NaN</td>\n      <td>51100</td>\n      <td>France</td>\n      <td>EMEA</td>\n      <td>Henriot</td>\n      <td>Paul</td>\n      <td>Small</td>\n    </tr>\n    <tr>\n      <th>2</th>\n      <td>10134</td>\n      <td>41</td>\n      <td>94.74</td>\n      <td>2</td>\n      <td>3884.34</td>\n      <td>7/1/2003 0:00</td>\n      <td>Shipped</td>\n      <td>3</td>\n      <td>7</td>\n      <td>2003</td>\n      <td>...</td>\n      <td>27 rue du Colonel Pierre Avia</td>\n      <td>NaN</td>\n      <td>Paris</td>\n      <td>NaN</td>\n      <td>75508</td>\n      <td>France</td>\n      <td>EMEA</td>\n      <td>Da Cunha</td>\n      <td>Daniel</td>\n      <td>Medium</td>\n    </tr>\n    <tr>\n      <th>3</th>\n      <td>10145</td>\n      <td>45</td>\n      <td>83.26</td>\n      <td>6</td>\n      <td>3746.70</td>\n      <td>8/25/2003 0:00</td>\n      <td>Shipped</td>\n      <td>3</td>\n      <td>8</td>\n      <td>2003</td>\n      <td>...</td>\n      <td>78934 Hillside Dr.</td>\n      <td>NaN</td>\n      <td>Pasadena</td>\n      <td>CA</td>\n      <td>90003</td>\n      <td>USA</td>\n      <td>NaN</td>\n      <td>Young</td>\n      <td>Julie</td>\n      <td>Medium</td>\n    </tr>\n    <tr>\n      <th>4</th>\n      <td>10159</td>\n      <td>49</td>\n      <td>100.00</td>\n      <td>14</td>\n      <td>5205.27</td>\n      <td>10/10/2003 0:00</td>\n      <td>Shipped</td>\n      <td>4</td>\n      <td>10</td>\n      <td>2003</td>\n      <td>...</td>\n      <td>7734 Strong St.</td>\n      <td>NaN</td>\n      <td>San Francisco</td>\n      <td>CA</td>\n      <td>NaN</td>\n      <td>USA</td>\n      <td>NaN</td>\n      <td>Brown</td>\n      <td>Julie</td>\n      <td>Medium</td>\n    </tr>\n  </tbody>\n</table>\n<p>5 rows × 25 columns</p>\n</div>"
     },
     "execution_count": 2,
     "metadata": {},
     "output_type": "execute_result"
    }
   ],
   "source": [
    "# Downloaded from https://www.kaggle.com/datasets/kyanyoga/sample-sales-data/data?select=sales_data_sample.csv\n",
    "import pandas as pd\n",
    "\n",
    "#Load Data\n",
    "df=pd.read_csv('sales_data_sample.csv', encoding='ISO-8859-1')\n",
    "# print the columns\n",
    "print(df.columns)\n",
    "\n",
    "df.head(5)\n"
   ],
   "metadata": {
    "collapsed": false,
    "ExecuteTime": {
     "end_time": "2024-03-18T23:42:12.646658500Z",
     "start_time": "2024-03-18T23:42:12.613412200Z"
    }
   },
   "id": "3f818877defebb6c"
  },
  {
   "cell_type": "code",
   "execution_count": 3,
   "outputs": [
    {
     "data": {
      "text/plain": "                                    SALE_NAME  SALE_DATE SALE_PRODUCT  \\\n0            10107 S10_1678 Land of Toys Inc. 2003-02-24  Motorcycles   \n1           10121 S10_1678 Reims Collectables 2003-05-07  Motorcycles   \n2              10134 S10_1678 Lyon Souveniers 2003-07-01  Motorcycles   \n3            10145 S10_1678 Toys4GrownUps.com 2003-08-25  Motorcycles   \n4     10159 S10_1678 Corporate Gift Ideas Co. 2003-10-10  Motorcycles   \n...                                       ...        ...          ...   \n2818     10350 S72_3212 Euro Shopping Channel 2004-12-02        Ships   \n2819   10373 S72_3212 Oulu Toy Supplies, Inc. 2005-01-31        Ships   \n2820     10386 S72_3212 Euro Shopping Channel 2005-03-01        Ships   \n2821              10397 S72_3212 Alpha Cognac 2005-03-28        Ships   \n2822         10414 S72_3212 Gifts4AllAges.com 2005-05-06        Ships   \n\n      SALE_AMOUNT  \n0         2871.00  \n1         2765.90  \n2         3884.34  \n3         3746.70  \n4         4900.00  \n...           ...  \n2818      2000.00  \n2819      2900.00  \n2820      4300.00  \n2821      2116.16  \n2822      3079.44  \n\n[2823 rows x 4 columns]",
      "text/html": "<div>\n<style scoped>\n    .dataframe tbody tr th:only-of-type {\n        vertical-align: middle;\n    }\n\n    .dataframe tbody tr th {\n        vertical-align: top;\n    }\n\n    .dataframe thead th {\n        text-align: right;\n    }\n</style>\n<table border=\"1\" class=\"dataframe\">\n  <thead>\n    <tr style=\"text-align: right;\">\n      <th></th>\n      <th>SALE_NAME</th>\n      <th>SALE_DATE</th>\n      <th>SALE_PRODUCT</th>\n      <th>SALE_AMOUNT</th>\n    </tr>\n  </thead>\n  <tbody>\n    <tr>\n      <th>0</th>\n      <td>10107 S10_1678 Land of Toys Inc.</td>\n      <td>2003-02-24</td>\n      <td>Motorcycles</td>\n      <td>2871.00</td>\n    </tr>\n    <tr>\n      <th>1</th>\n      <td>10121 S10_1678 Reims Collectables</td>\n      <td>2003-05-07</td>\n      <td>Motorcycles</td>\n      <td>2765.90</td>\n    </tr>\n    <tr>\n      <th>2</th>\n      <td>10134 S10_1678 Lyon Souveniers</td>\n      <td>2003-07-01</td>\n      <td>Motorcycles</td>\n      <td>3884.34</td>\n    </tr>\n    <tr>\n      <th>3</th>\n      <td>10145 S10_1678 Toys4GrownUps.com</td>\n      <td>2003-08-25</td>\n      <td>Motorcycles</td>\n      <td>3746.70</td>\n    </tr>\n    <tr>\n      <th>4</th>\n      <td>10159 S10_1678 Corporate Gift Ideas Co.</td>\n      <td>2003-10-10</td>\n      <td>Motorcycles</td>\n      <td>4900.00</td>\n    </tr>\n    <tr>\n      <th>...</th>\n      <td>...</td>\n      <td>...</td>\n      <td>...</td>\n      <td>...</td>\n    </tr>\n    <tr>\n      <th>2818</th>\n      <td>10350 S72_3212 Euro Shopping Channel</td>\n      <td>2004-12-02</td>\n      <td>Ships</td>\n      <td>2000.00</td>\n    </tr>\n    <tr>\n      <th>2819</th>\n      <td>10373 S72_3212 Oulu Toy Supplies, Inc.</td>\n      <td>2005-01-31</td>\n      <td>Ships</td>\n      <td>2900.00</td>\n    </tr>\n    <tr>\n      <th>2820</th>\n      <td>10386 S72_3212 Euro Shopping Channel</td>\n      <td>2005-03-01</td>\n      <td>Ships</td>\n      <td>4300.00</td>\n    </tr>\n    <tr>\n      <th>2821</th>\n      <td>10397 S72_3212 Alpha Cognac</td>\n      <td>2005-03-28</td>\n      <td>Ships</td>\n      <td>2116.16</td>\n    </tr>\n    <tr>\n      <th>2822</th>\n      <td>10414 S72_3212 Gifts4AllAges.com</td>\n      <td>2005-05-06</td>\n      <td>Ships</td>\n      <td>3079.44</td>\n    </tr>\n  </tbody>\n</table>\n<p>2823 rows × 4 columns</p>\n</div>"
     },
     "execution_count": 3,
     "metadata": {},
     "output_type": "execute_result"
    }
   ],
   "source": [
    "# select some columns\n",
    "df[\"SALE_AMOUNT\"] = df[\"QUANTITYORDERED\"] * df[\"PRICEEACH\"]\n",
    "df[\"SALE_PRODUCT\"] = df[\"PRODUCTLINE\"]\n",
    "df[\"SALE_DATE\"] = df[\"ORDERDATE\"]\n",
    "df[\"SALE_NAME\"] =  df[\"ORDERNUMBER\"].astype(str)+ \" \" + df[\"PRODUCTCODE\"].astype(str) + \" \" + df[\"CUSTOMERNAME\"].astype(str)\n",
    "# remove \\n and multiple spaces from sale_name\n",
    "df[\"SALE_NAME\"] = df[\"SALE_NAME\"].str.replace(\"\\n\", \" \").str.replace(\" +\", \" \", regex=True)\n",
    "\n",
    "df = df[[\"SALE_NAME\", \"SALE_DATE\", \"SALE_PRODUCT\", \"SALE_AMOUNT\"]]\n",
    "df[\"SALE_DATE\"] = pd.to_datetime(df[\"SALE_DATE\"])\n",
    "df"
   ],
   "metadata": {
    "collapsed": false,
    "ExecuteTime": {
     "end_time": "2024-03-18T23:42:12.706155200Z",
     "start_time": "2024-03-18T23:42:12.656560600Z"
    }
   },
   "id": "6d7363e18fa1b4af"
  },
  {
   "cell_type": "code",
   "execution_count": 9,
   "outputs": [
    {
     "data": {
      "text/plain": "                                    SALE_NAME  SALE_DATE SALE_PRODUCT  \\\n0            10107 S10_1678 Land of Toys Inc. 2003-02-24  Motorcycles   \n1           10121 S10_1678 Reims Collectables 2003-05-07  Motorcycles   \n2              10134 S10_1678 Lyon Souveniers 2003-07-01  Motorcycles   \n3            10145 S10_1678 Toys4GrownUps.com 2003-08-25  Motorcycles   \n4     10159 S10_1678 Corporate Gift Ideas Co. 2003-10-10  Motorcycles   \n...                                       ...        ...          ...   \n2818     10350 S72_3212 Euro Shopping Channel 2004-12-02        Ships   \n2819   10373 S72_3212 Oulu Toy Supplies, Inc. 2005-01-31        Ships   \n2820     10386 S72_3212 Euro Shopping Channel 2005-03-01        Ships   \n2821              10397 S72_3212 Alpha Cognac 2005-03-28        Ships   \n2822         10414 S72_3212 Gifts4AllAges.com 2005-05-06        Ships   \n\n      SALE_AMOUNT   SALE_DATE_ELO  \n0         2871.00  20030224000000  \n1         2765.90  20030507000000  \n2         3884.34  20030701000000  \n3         3746.70  20030825000000  \n4         4900.00  20031010000000  \n...           ...             ...  \n2818      2000.00  20041202000000  \n2819      2900.00  20050131000000  \n2820      4300.00  20050301000000  \n2821      2116.16  20050328000000  \n2822      3079.44  20050506000000  \n\n[2823 rows x 5 columns]",
      "text/html": "<div>\n<style scoped>\n    .dataframe tbody tr th:only-of-type {\n        vertical-align: middle;\n    }\n\n    .dataframe tbody tr th {\n        vertical-align: top;\n    }\n\n    .dataframe thead th {\n        text-align: right;\n    }\n</style>\n<table border=\"1\" class=\"dataframe\">\n  <thead>\n    <tr style=\"text-align: right;\">\n      <th></th>\n      <th>SALE_NAME</th>\n      <th>SALE_DATE</th>\n      <th>SALE_PRODUCT</th>\n      <th>SALE_AMOUNT</th>\n      <th>SALE_DATE_ELO</th>\n    </tr>\n  </thead>\n  <tbody>\n    <tr>\n      <th>0</th>\n      <td>10107 S10_1678 Land of Toys Inc.</td>\n      <td>2003-02-24</td>\n      <td>Motorcycles</td>\n      <td>2871.00</td>\n      <td>20030224000000</td>\n    </tr>\n    <tr>\n      <th>1</th>\n      <td>10121 S10_1678 Reims Collectables</td>\n      <td>2003-05-07</td>\n      <td>Motorcycles</td>\n      <td>2765.90</td>\n      <td>20030507000000</td>\n    </tr>\n    <tr>\n      <th>2</th>\n      <td>10134 S10_1678 Lyon Souveniers</td>\n      <td>2003-07-01</td>\n      <td>Motorcycles</td>\n      <td>3884.34</td>\n      <td>20030701000000</td>\n    </tr>\n    <tr>\n      <th>3</th>\n      <td>10145 S10_1678 Toys4GrownUps.com</td>\n      <td>2003-08-25</td>\n      <td>Motorcycles</td>\n      <td>3746.70</td>\n      <td>20030825000000</td>\n    </tr>\n    <tr>\n      <th>4</th>\n      <td>10159 S10_1678 Corporate Gift Ideas Co.</td>\n      <td>2003-10-10</td>\n      <td>Motorcycles</td>\n      <td>4900.00</td>\n      <td>20031010000000</td>\n    </tr>\n    <tr>\n      <th>...</th>\n      <td>...</td>\n      <td>...</td>\n      <td>...</td>\n      <td>...</td>\n      <td>...</td>\n    </tr>\n    <tr>\n      <th>2818</th>\n      <td>10350 S72_3212 Euro Shopping Channel</td>\n      <td>2004-12-02</td>\n      <td>Ships</td>\n      <td>2000.00</td>\n      <td>20041202000000</td>\n    </tr>\n    <tr>\n      <th>2819</th>\n      <td>10373 S72_3212 Oulu Toy Supplies, Inc.</td>\n      <td>2005-01-31</td>\n      <td>Ships</td>\n      <td>2900.00</td>\n      <td>20050131000000</td>\n    </tr>\n    <tr>\n      <th>2820</th>\n      <td>10386 S72_3212 Euro Shopping Channel</td>\n      <td>2005-03-01</td>\n      <td>Ships</td>\n      <td>4300.00</td>\n      <td>20050301000000</td>\n    </tr>\n    <tr>\n      <th>2821</th>\n      <td>10397 S72_3212 Alpha Cognac</td>\n      <td>2005-03-28</td>\n      <td>Ships</td>\n      <td>2116.16</td>\n      <td>20050328000000</td>\n    </tr>\n    <tr>\n      <th>2822</th>\n      <td>10414 S72_3212 Gifts4AllAges.com</td>\n      <td>2005-05-06</td>\n      <td>Ships</td>\n      <td>3079.44</td>\n      <td>20050506000000</td>\n    </tr>\n  </tbody>\n</table>\n<p>2823 rows × 5 columns</p>\n</div>"
     },
     "execution_count": 9,
     "metadata": {},
     "output_type": "execute_result"
    }
   ],
   "source": [
    "# formatted with yyyyMMddHHmmss\n",
    "df[\"SALE_DATE_ELO\"]= df[\"SALE_DATE\"].dt.strftime(\"%Y%m%d%H%M%S\")\n",
    "df"
   ],
   "metadata": {
    "collapsed": false,
    "ExecuteTime": {
     "end_time": "2024-03-19T23:38:52.956255100Z",
     "start_time": "2024-03-19T23:38:52.896264200Z"
    }
   },
   "id": "8c407ce12eefccbe"
  },
  {
   "cell_type": "code",
   "execution_count": 11,
   "id": "7fa570c8c1d9caf4",
   "metadata": {
    "collapsed": false,
    "ExecuteTime": {
     "end_time": "2024-03-19T23:40:43.334712500Z",
     "start_time": "2024-03-19T23:40:43.332205400Z"
    }
   },
   "outputs": [],
   "source": [
    "basePath = \"¶Sales¶PythonExampleDataImport\"\n",
    "separator = \"¶\"\n",
    "\n",
    "def create_sord_singlethreaded(row):\n",
    "    folderName = row[\"SALE_NAME\"]\n",
    "    fullPath = basePath + separator + folderName\n",
    "    sordID = elo_service.create_folder(fullPath)\n",
    "    print(f\"Created folder {fullPath} with sordID {sordID}\")\n",
    "    elo_service.overwrite_mask_fields(sord_id=sordID,\n",
    "                                      mask_name=\"SALE\",\n",
    "                                      metadata={\"SALE_NAME\": row[\"SALE_NAME\"],\n",
    "                                                # formatted with yyyyMMddHHmmss\n",
    "                                                \"SALE_DATE\":  row[\"SALE_DATE_ELO\"],\n",
    "                                                \"SALE_PRODUCT\": row[\"SALE_PRODUCT\"],\n",
    "                                                \"SALE_AMOUNT\": row[\"SALE_AMOUNT\"]})\n",
    "    print(f\"Updated metadata for sord {sordID}\")\n",
    "    return sordID\n",
    "\n",
    "# function that takes a df row and creates a sord with mask \n",
    "# and objkeys from the row\n",
    "def create_sord_multithreaded(row):\n",
    "    # we need to import and create the elo_service in the function inorder to use it in a multithreaded environment\n",
    "    from decouple import AutoConfig\n",
    "    from eloservice.elo_service import EloService\n",
    "    config = AutoConfig(search_path='./') # load .env file from current directory with connection details\n",
    "    rest_baseurl = config(\"TEST_ELO_IX_URL\")\n",
    "    rest_user = config(\"TEST_ELO_IX_USER\")\n",
    "    rest_password = config(\"TEST_ELO_IX_PASSWORD\")\n",
    "    elo_service = EloService(url=rest_baseurl, user=rest_user, password=rest_password)\n",
    "    basePath = \"¶Sales¶PythonExampleDataImport\"\n",
    "    separator = \"¶\"\n",
    "    folderName = row[\"SALE_NAME\"]\n",
    "    fullPath = basePath + separator + folderName\n",
    "    sordID = elo_service.create_folder(fullPath)\n",
    "    print(f\"Created folder {fullPath} with sordID {sordID}\")\n",
    "    elo_service.overwrite_mask_fields(sord_id=sordID, \n",
    "                                      mask_name=\"SALE\",\n",
    "                                      metadata={\"SALE_NAME\": row[\"SALE_NAME\"],\n",
    "                                                # formatted with yyyyMMddHHmmss\n",
    "                                                \"SALE_DATE\":  row[\"SALE_DATE_ELO\"],\n",
    "                                                \"SALE_PRODUCT\": row[\"SALE_PRODUCT\"],\n",
    "                                                \"SALE_AMOUNT\": row[\"SALE_AMOUNT\"]})\n",
    "    print(f\"Updated metadata for sord {sordID}\")\n",
    "    return sordID"
   ]
  },
  {
   "cell_type": "markdown",
   "source": [
    "### Filter some data"
   ],
   "metadata": {
    "collapsed": false
   },
   "id": "d53ed71ff338fe95"
  },
  {
   "cell_type": "code",
   "execution_count": 12,
   "outputs": [
    {
     "data": {
      "text/plain": "                                        SALE_NAME  SALE_DATE  \\\n0                10107 S10_1678 Land of Toys Inc. 2003-02-24   \n1               10121 S10_1678 Reims Collectables 2003-05-07   \n2                  10134 S10_1678 Lyon Souveniers 2003-07-01   \n3                10145 S10_1678 Toys4GrownUps.com 2003-08-25   \n4         10159 S10_1678 Corporate Gift Ideas Co. 2003-10-10   \n26              10103 S10_1949 Baane Mini Imports 2003-01-29   \n27        10112 S10_1949 Volvo Model Replicas, Co 2003-03-24   \n28      10126 S10_1949 Corrida Auto Replicas, Ltd 2003-05-28   \n29            10140 S10_1949 Technics Stores Inc. 2003-07-24   \n30         10150 S10_1949 Dragon Souveniers, Ltd. 2003-09-19   \n212             10103 S12_1666 Baane Mini Imports 2003-01-29   \n213   10113 S12_1666 Mini Gifts Distributors Ltd. 2003-03-26   \n214     10126 S12_1666 Corrida Auto Replicas, Ltd 2003-05-28   \n215           10140 S12_1666 Technics Stores Inc. 2003-07-24   \n216        10150 S12_1666 Dragon Souveniers, Ltd. 2003-09-19   \n475                10102 S18_1342 Vitachrome Inc. 2003-01-10   \n476                10111 S18_1342 Mini Wheels Co. 2003-03-25   \n477     10125 S18_1342 Australian Collectors, Co. 2003-05-21   \n478      10139 S18_1342 Souveniers And Things Co. 2003-07-16   \n479       10149 S18_1342 Signal Collectibles Ltd. 2003-09-12   \n552                  10106 S18_1662 Rovelli Gifts 2003-02-17   \n553          10119 S18_1662 Salzburg Collectables 2003-04-28   \n554               10131 S18_1662 Gift Ideas Corp. 2003-06-16   \n555            10143 S18_1662 Mini Creations Ltd. 2003-08-10   \n556           10155 S18_1662 Toys of Finland, Co. 2003-10-06   \n935                  10106 S18_3029 Rovelli Gifts 2003-02-17   \n936          10119 S18_3029 Salzburg Collectables 2003-04-28   \n937        10130 S18_3029 Auto-Moto Classics Inc. 2003-06-16   \n938            10143 S18_3029 Mini Creations Ltd. 2003-08-10   \n939           10155 S18_3029 Toys of Finland, Co. 2003-10-06   \n1065      10105 S18_3259 Danish Wholesale Imports 2003-02-11   \n1066       10117 S18_3259 Dragon Souveniers, Ltd. 2003-04-16   \n1067         10128 S18_3259 Euro Shopping Channel 2003-06-06   \n1068  10142 S18_3259 Mini Gifts Distributors Ltd. 2003-08-08   \n1069         10153 S18_3259 Euro Shopping Channel 2003-09-28   \n\n          SALE_PRODUCT  SALE_AMOUNT   SALE_DATE_ELO  \n0          Motorcycles      2871.00  20030224000000  \n1          Motorcycles      2765.90  20030507000000  \n2          Motorcycles      3884.34  20030701000000  \n3          Motorcycles      3746.70  20030825000000  \n4          Motorcycles      4900.00  20031010000000  \n26        Classic Cars      2600.00  20030129000000  \n27        Classic Cars      2900.00  20030324000000  \n28        Classic Cars      3800.00  20030528000000  \n29        Classic Cars      3700.00  20030724000000  \n30        Classic Cars      4500.00  20030919000000  \n212   Trucks and Buses      2700.00  20030129000000  \n213   Trucks and Buses      2100.00  20030326000000  \n214   Trucks and Buses      2100.00  20030528000000  \n215   Trucks and Buses      3800.00  20030724000000  \n216   Trucks and Buses      3000.00  20030919000000  \n475       Vintage Cars      3900.00  20030110000000  \n476       Vintage Cars      3288.78  20030325000000  \n477       Vintage Cars      3200.00  20030521000000  \n478       Vintage Cars      3100.00  20030716000000  \n479       Vintage Cars      5000.00  20030912000000  \n552             Planes      3600.00  20030217000000  \n553             Planes      4300.00  20030428000000  \n554             Planes      2100.00  20030616000000  \n555             Planes      3200.00  20030810000000  \n556             Planes      3800.00  20031006000000  \n935              Ships      3421.04  20030217000000  \n936              Ships      1878.66  20030428000000  \n937              Ships      3853.60  20030616000000  \n938              Ships      3442.64  20030810000000  \n939              Ships      3482.16  20031006000000  \n1065            Trains      3800.00  20030211000000  \n1066            Trains      2011.80  20030416000000  \n1067            Trains      4100.00  20030606000000  \n1068            Trains      2151.82  20030808000000  \n1069            Trains      2573.46  20030928000000  ",
      "text/html": "<div>\n<style scoped>\n    .dataframe tbody tr th:only-of-type {\n        vertical-align: middle;\n    }\n\n    .dataframe tbody tr th {\n        vertical-align: top;\n    }\n\n    .dataframe thead th {\n        text-align: right;\n    }\n</style>\n<table border=\"1\" class=\"dataframe\">\n  <thead>\n    <tr style=\"text-align: right;\">\n      <th></th>\n      <th>SALE_NAME</th>\n      <th>SALE_DATE</th>\n      <th>SALE_PRODUCT</th>\n      <th>SALE_AMOUNT</th>\n      <th>SALE_DATE_ELO</th>\n    </tr>\n  </thead>\n  <tbody>\n    <tr>\n      <th>0</th>\n      <td>10107 S10_1678 Land of Toys Inc.</td>\n      <td>2003-02-24</td>\n      <td>Motorcycles</td>\n      <td>2871.00</td>\n      <td>20030224000000</td>\n    </tr>\n    <tr>\n      <th>1</th>\n      <td>10121 S10_1678 Reims Collectables</td>\n      <td>2003-05-07</td>\n      <td>Motorcycles</td>\n      <td>2765.90</td>\n      <td>20030507000000</td>\n    </tr>\n    <tr>\n      <th>2</th>\n      <td>10134 S10_1678 Lyon Souveniers</td>\n      <td>2003-07-01</td>\n      <td>Motorcycles</td>\n      <td>3884.34</td>\n      <td>20030701000000</td>\n    </tr>\n    <tr>\n      <th>3</th>\n      <td>10145 S10_1678 Toys4GrownUps.com</td>\n      <td>2003-08-25</td>\n      <td>Motorcycles</td>\n      <td>3746.70</td>\n      <td>20030825000000</td>\n    </tr>\n    <tr>\n      <th>4</th>\n      <td>10159 S10_1678 Corporate Gift Ideas Co.</td>\n      <td>2003-10-10</td>\n      <td>Motorcycles</td>\n      <td>4900.00</td>\n      <td>20031010000000</td>\n    </tr>\n    <tr>\n      <th>26</th>\n      <td>10103 S10_1949 Baane Mini Imports</td>\n      <td>2003-01-29</td>\n      <td>Classic Cars</td>\n      <td>2600.00</td>\n      <td>20030129000000</td>\n    </tr>\n    <tr>\n      <th>27</th>\n      <td>10112 S10_1949 Volvo Model Replicas, Co</td>\n      <td>2003-03-24</td>\n      <td>Classic Cars</td>\n      <td>2900.00</td>\n      <td>20030324000000</td>\n    </tr>\n    <tr>\n      <th>28</th>\n      <td>10126 S10_1949 Corrida Auto Replicas, Ltd</td>\n      <td>2003-05-28</td>\n      <td>Classic Cars</td>\n      <td>3800.00</td>\n      <td>20030528000000</td>\n    </tr>\n    <tr>\n      <th>29</th>\n      <td>10140 S10_1949 Technics Stores Inc.</td>\n      <td>2003-07-24</td>\n      <td>Classic Cars</td>\n      <td>3700.00</td>\n      <td>20030724000000</td>\n    </tr>\n    <tr>\n      <th>30</th>\n      <td>10150 S10_1949 Dragon Souveniers, Ltd.</td>\n      <td>2003-09-19</td>\n      <td>Classic Cars</td>\n      <td>4500.00</td>\n      <td>20030919000000</td>\n    </tr>\n    <tr>\n      <th>212</th>\n      <td>10103 S12_1666 Baane Mini Imports</td>\n      <td>2003-01-29</td>\n      <td>Trucks and Buses</td>\n      <td>2700.00</td>\n      <td>20030129000000</td>\n    </tr>\n    <tr>\n      <th>213</th>\n      <td>10113 S12_1666 Mini Gifts Distributors Ltd.</td>\n      <td>2003-03-26</td>\n      <td>Trucks and Buses</td>\n      <td>2100.00</td>\n      <td>20030326000000</td>\n    </tr>\n    <tr>\n      <th>214</th>\n      <td>10126 S12_1666 Corrida Auto Replicas, Ltd</td>\n      <td>2003-05-28</td>\n      <td>Trucks and Buses</td>\n      <td>2100.00</td>\n      <td>20030528000000</td>\n    </tr>\n    <tr>\n      <th>215</th>\n      <td>10140 S12_1666 Technics Stores Inc.</td>\n      <td>2003-07-24</td>\n      <td>Trucks and Buses</td>\n      <td>3800.00</td>\n      <td>20030724000000</td>\n    </tr>\n    <tr>\n      <th>216</th>\n      <td>10150 S12_1666 Dragon Souveniers, Ltd.</td>\n      <td>2003-09-19</td>\n      <td>Trucks and Buses</td>\n      <td>3000.00</td>\n      <td>20030919000000</td>\n    </tr>\n    <tr>\n      <th>475</th>\n      <td>10102 S18_1342 Vitachrome Inc.</td>\n      <td>2003-01-10</td>\n      <td>Vintage Cars</td>\n      <td>3900.00</td>\n      <td>20030110000000</td>\n    </tr>\n    <tr>\n      <th>476</th>\n      <td>10111 S18_1342 Mini Wheels Co.</td>\n      <td>2003-03-25</td>\n      <td>Vintage Cars</td>\n      <td>3288.78</td>\n      <td>20030325000000</td>\n    </tr>\n    <tr>\n      <th>477</th>\n      <td>10125 S18_1342 Australian Collectors, Co.</td>\n      <td>2003-05-21</td>\n      <td>Vintage Cars</td>\n      <td>3200.00</td>\n      <td>20030521000000</td>\n    </tr>\n    <tr>\n      <th>478</th>\n      <td>10139 S18_1342 Souveniers And Things Co.</td>\n      <td>2003-07-16</td>\n      <td>Vintage Cars</td>\n      <td>3100.00</td>\n      <td>20030716000000</td>\n    </tr>\n    <tr>\n      <th>479</th>\n      <td>10149 S18_1342 Signal Collectibles Ltd.</td>\n      <td>2003-09-12</td>\n      <td>Vintage Cars</td>\n      <td>5000.00</td>\n      <td>20030912000000</td>\n    </tr>\n    <tr>\n      <th>552</th>\n      <td>10106 S18_1662 Rovelli Gifts</td>\n      <td>2003-02-17</td>\n      <td>Planes</td>\n      <td>3600.00</td>\n      <td>20030217000000</td>\n    </tr>\n    <tr>\n      <th>553</th>\n      <td>10119 S18_1662 Salzburg Collectables</td>\n      <td>2003-04-28</td>\n      <td>Planes</td>\n      <td>4300.00</td>\n      <td>20030428000000</td>\n    </tr>\n    <tr>\n      <th>554</th>\n      <td>10131 S18_1662 Gift Ideas Corp.</td>\n      <td>2003-06-16</td>\n      <td>Planes</td>\n      <td>2100.00</td>\n      <td>20030616000000</td>\n    </tr>\n    <tr>\n      <th>555</th>\n      <td>10143 S18_1662 Mini Creations Ltd.</td>\n      <td>2003-08-10</td>\n      <td>Planes</td>\n      <td>3200.00</td>\n      <td>20030810000000</td>\n    </tr>\n    <tr>\n      <th>556</th>\n      <td>10155 S18_1662 Toys of Finland, Co.</td>\n      <td>2003-10-06</td>\n      <td>Planes</td>\n      <td>3800.00</td>\n      <td>20031006000000</td>\n    </tr>\n    <tr>\n      <th>935</th>\n      <td>10106 S18_3029 Rovelli Gifts</td>\n      <td>2003-02-17</td>\n      <td>Ships</td>\n      <td>3421.04</td>\n      <td>20030217000000</td>\n    </tr>\n    <tr>\n      <th>936</th>\n      <td>10119 S18_3029 Salzburg Collectables</td>\n      <td>2003-04-28</td>\n      <td>Ships</td>\n      <td>1878.66</td>\n      <td>20030428000000</td>\n    </tr>\n    <tr>\n      <th>937</th>\n      <td>10130 S18_3029 Auto-Moto Classics Inc.</td>\n      <td>2003-06-16</td>\n      <td>Ships</td>\n      <td>3853.60</td>\n      <td>20030616000000</td>\n    </tr>\n    <tr>\n      <th>938</th>\n      <td>10143 S18_3029 Mini Creations Ltd.</td>\n      <td>2003-08-10</td>\n      <td>Ships</td>\n      <td>3442.64</td>\n      <td>20030810000000</td>\n    </tr>\n    <tr>\n      <th>939</th>\n      <td>10155 S18_3029 Toys of Finland, Co.</td>\n      <td>2003-10-06</td>\n      <td>Ships</td>\n      <td>3482.16</td>\n      <td>20031006000000</td>\n    </tr>\n    <tr>\n      <th>1065</th>\n      <td>10105 S18_3259 Danish Wholesale Imports</td>\n      <td>2003-02-11</td>\n      <td>Trains</td>\n      <td>3800.00</td>\n      <td>20030211000000</td>\n    </tr>\n    <tr>\n      <th>1066</th>\n      <td>10117 S18_3259 Dragon Souveniers, Ltd.</td>\n      <td>2003-04-16</td>\n      <td>Trains</td>\n      <td>2011.80</td>\n      <td>20030416000000</td>\n    </tr>\n    <tr>\n      <th>1067</th>\n      <td>10128 S18_3259 Euro Shopping Channel</td>\n      <td>2003-06-06</td>\n      <td>Trains</td>\n      <td>4100.00</td>\n      <td>20030606000000</td>\n    </tr>\n    <tr>\n      <th>1068</th>\n      <td>10142 S18_3259 Mini Gifts Distributors Ltd.</td>\n      <td>2003-08-08</td>\n      <td>Trains</td>\n      <td>2151.82</td>\n      <td>20030808000000</td>\n    </tr>\n    <tr>\n      <th>1069</th>\n      <td>10153 S18_3259 Euro Shopping Channel</td>\n      <td>2003-09-28</td>\n      <td>Trains</td>\n      <td>2573.46</td>\n      <td>20030928000000</td>\n    </tr>\n  </tbody>\n</table>\n</div>"
     },
     "execution_count": 12,
     "metadata": {},
     "output_type": "execute_result"
    }
   ],
   "source": [
    "# get the first 5 rows for each product\n",
    "filtered_df = df.groupby(\"SALE_PRODUCT\").head(5)\n",
    "filtered_df"
   ],
   "metadata": {
    "collapsed": false,
    "ExecuteTime": {
     "end_time": "2024-03-19T23:40:50.519360900Z",
     "start_time": "2024-03-19T23:40:50.487892500Z"
    }
   },
   "id": "7b039d05a3d61a9b"
  },
  {
   "cell_type": "code",
   "execution_count": 14,
   "outputs": [
    {
     "name": "stdout",
     "output_type": "stream",
     "text": [
      "Created folder ¶Sales¶PythonExampleDataImport¶10107 S10_1678 Land of Toys Inc. with sordID 6331\n",
      "Updated metadata for sord 6331\n",
      "Created folder ¶Sales¶PythonExampleDataImport¶10121 S10_1678 Reims Collectables with sordID 6337\n",
      "Updated metadata for sord 6337\n",
      "Created folder ¶Sales¶PythonExampleDataImport¶10134 S10_1678 Lyon Souveniers with sordID 6345\n",
      "Updated metadata for sord 6345\n",
      "Created folder ¶Sales¶PythonExampleDataImport¶10145 S10_1678 Toys4GrownUps.com with sordID 6351\n",
      "Updated metadata for sord 6351\n",
      "Created folder ¶Sales¶PythonExampleDataImport¶10159 S10_1678 Corporate Gift Ideas Co. with sordID 6359\n",
      "Updated metadata for sord 6359\n",
      "Created folder ¶Sales¶PythonExampleDataImport¶10103 S10_1949 Baane Mini Imports with sordID 6535\n",
      "Updated metadata for sord 6535\n",
      "Created folder ¶Sales¶PythonExampleDataImport¶10112 S10_1949 Volvo Model Replicas, Co with sordID 6543\n",
      "Updated metadata for sord 6543\n",
      "Created folder ¶Sales¶PythonExampleDataImport¶10126 S10_1949 Corrida Auto Replicas, Ltd with sordID 6555\n",
      "Updated metadata for sord 6555\n",
      "Created folder ¶Sales¶PythonExampleDataImport¶10140 S10_1949 Technics Stores Inc. with sordID 6563\n",
      "Updated metadata for sord 6563\n",
      "Created folder ¶Sales¶PythonExampleDataImport¶10150 S10_1949 Dragon Souveniers, Ltd. with sordID 6570\n",
      "Updated metadata for sord 6570\n",
      "Created folder ¶Sales¶PythonExampleDataImport¶10103 S12_1666 Baane Mini Imports with sordID 6390\n",
      "Updated metadata for sord 6390\n",
      "Created folder ¶Sales¶PythonExampleDataImport¶10113 S12_1666 Mini Gifts Distributors Ltd. with sordID 6398\n",
      "Updated metadata for sord 6398\n",
      "Created folder ¶Sales¶PythonExampleDataImport¶10126 S12_1666 Corrida Auto Replicas, Ltd with sordID 6406\n",
      "Updated metadata for sord 6406\n",
      "Created folder ¶Sales¶PythonExampleDataImport¶10140 S12_1666 Technics Stores Inc. with sordID 6414\n",
      "Updated metadata for sord 6414\n",
      "Created folder ¶Sales¶PythonExampleDataImport¶10150 S12_1666 Dragon Souveniers, Ltd. with sordID 6422\n",
      "Updated metadata for sord 6422\n",
      "Created folder ¶Sales¶PythonExampleDataImport¶10102 S18_1342 Vitachrome Inc. with sordID 6557\n",
      "Updated metadata for sord 6557\n",
      "Created folder ¶Sales¶PythonExampleDataImport¶10111 S18_1342 Mini Wheels Co. with sordID 6565\n",
      "Updated metadata for sord 6565\n",
      "Created folder ¶Sales¶PythonExampleDataImport¶10125 S18_1342 Australian Collectors, Co. with sordID 6573\n",
      "Updated metadata for sord 6573\n",
      "Created folder ¶Sales¶PythonExampleDataImport¶10139 S18_1342 Souveniers And Things Co. with sordID 6581\n",
      "Updated metadata for sord 6581\n",
      "Created folder ¶Sales¶PythonExampleDataImport¶10149 S18_1342 Signal Collectibles Ltd. with sordID 6589\n",
      "Updated metadata for sord 6589\n",
      "Created folder ¶Sales¶PythonExampleDataImport¶10106 S18_1662 Rovelli Gifts with sordID 6969\n",
      "Updated metadata for sord 6969\n",
      "Created folder ¶Sales¶PythonExampleDataImport¶10119 S18_1662 Salzburg Collectables with sordID 6977\n",
      "Updated metadata for sord 6977\n",
      "Created folder ¶Sales¶PythonExampleDataImport¶10131 S18_1662 Gift Ideas Corp. with sordID 6984\n",
      "Updated metadata for sord 6984\n",
      "Created folder ¶Sales¶PythonExampleDataImport¶10143 S18_1662 Mini Creations Ltd. with sordID 6991\n",
      "Updated metadata for sord 6991\n",
      "Created folder ¶Sales¶PythonExampleDataImport¶10155 S18_1662 Toys of Finland, Co. with sordID 6996\n",
      "Updated metadata for sord 6996\n",
      "Created folder ¶Sales¶PythonExampleDataImport¶10106 S18_3029 Rovelli Gifts with sordID 6520\n",
      "Updated metadata for sord 6520\n",
      "Created folder ¶Sales¶PythonExampleDataImport¶10119 S18_3029 Salzburg Collectables with sordID 6528\n",
      "Updated metadata for sord 6528\n",
      "Created folder ¶Sales¶PythonExampleDataImport¶10130 S18_3029 Auto-Moto Classics Inc. with sordID 6536\n",
      "Updated metadata for sord 6536\n",
      "Created folder ¶Sales¶PythonExampleDataImport¶10143 S18_3029 Mini Creations Ltd. with sordID 6544\n",
      "Updated metadata for sord 6544\n",
      "Created folder ¶Sales¶PythonExampleDataImport¶10155 S18_3029 Toys of Finland, Co. with sordID 6553\n",
      "Updated metadata for sord 6553\n",
      "Created folder ¶Sales¶PythonExampleDataImport¶10105 S18_3259 Danish Wholesale Imports with sordID 6729\n",
      "Updated metadata for sord 6729\n",
      "Created folder ¶Sales¶PythonExampleDataImport¶10117 S18_3259 Dragon Souveniers, Ltd. with sordID 6737\n",
      "Updated metadata for sord 6737\n",
      "Created folder ¶Sales¶PythonExampleDataImport¶10128 S18_3259 Euro Shopping Channel with sordID 6745\n",
      "Updated metadata for sord 6745\n",
      "Created folder ¶Sales¶PythonExampleDataImport¶10142 S18_3259 Mini Gifts Distributors Ltd. with sordID 6753\n",
      "Updated metadata for sord 6753\n",
      "Created folder ¶Sales¶PythonExampleDataImport¶10153 S18_3259 Euro Shopping Channel with sordID 6761\n",
      "Updated metadata for sord 6761\n"
     ]
    },
    {
     "data": {
      "text/plain": "0       6331\n1       6337\n2       6345\n3       6351\n4       6359\n26      6535\n27      6543\n28      6555\n29      6563\n30      6570\n212     6390\n213     6398\n214     6406\n215     6414\n216     6422\n475     6557\n476     6565\n477     6573\n478     6581\n479     6589\n552     6969\n553     6977\n554     6984\n555     6991\n556     6996\n935     6520\n936     6528\n937     6536\n938     6544\n939     6553\n1065    6729\n1066    6737\n1067    6745\n1068    6753\n1069    6761\ndtype: int64"
     },
     "execution_count": 14,
     "metadata": {},
     "output_type": "execute_result"
    }
   ],
   "source": [
    "## Dump the data to ELO\n",
    "\n",
    "# iterate over the rows and create a sord for each row\n",
    "# apply in singlethreaded mode\n",
    "\n",
    "filtered_df.apply(create_sord_singlethreaded, axis=1)"
   ],
   "metadata": {
    "collapsed": false,
    "ExecuteTime": {
     "end_time": "2024-03-19T23:42:33.726293Z",
     "start_time": "2024-03-19T23:42:25.248314200Z"
    }
   },
   "id": "a2b76f55a18f47f2"
  },
  {
   "cell_type": "code",
   "execution_count": 15,
   "outputs": [
    {
     "name": "stdout",
     "output_type": "stream",
     "text": [
      "INFO: Pandarallel will run on 8 workers.\n",
      "INFO: Pandarallel will use standard multiprocessing data transfer (pipe) to transfer data between the main process and workers.\n",
      "\n",
      "WARNING: You are on Windows. If you detect any issue with pandarallel, be sure you checked out the Troubleshooting page:\n",
      "https://nalepae.github.io/pandarallel/troubleshooting/\n"
     ]
    },
    {
     "data": {
      "text/plain": "VBox(children=(HBox(children=(IntProgress(value=0, description='0.00%', max=85), Label(value='0 / 85'))), HBox…",
      "application/vnd.jupyter.widget-view+json": {
       "version_major": 2,
       "version_minor": 0,
       "model_id": "ca9227a90d2c4a1e9b15c0286a57d5de"
      }
     },
     "metadata": {},
     "output_type": "display_data"
    },
    {
     "data": {
      "text/plain": "0       6331\n1       6337\n2       6345\n3       6351\n4       6359\n        ... \n2526    6948\n2527    6953\n2528    6959\n2529    6967\n2530    6975\nLength: 677, dtype: int64"
     },
     "execution_count": 15,
     "metadata": {},
     "output_type": "execute_result"
    }
   ],
   "source": [
    "from pandarallel import pandarallel\n",
    "\n",
    "## Lets try with more data\n",
    "filtered_df = df.groupby(\"SALE_PRODUCT\").head(100)\n",
    "pandarallel.initialize(progress_bar=True)\n",
    "filtered_df.parallel_apply(create_sord_multithreaded, axis=1)"
   ],
   "metadata": {
    "collapsed": false,
    "ExecuteTime": {
     "end_time": "2024-03-19T23:44:27.651573900Z",
     "start_time": "2024-03-19T23:42:56.873004500Z"
    }
   },
   "id": "84953362b9dc5ef3"
  },
  {
   "cell_type": "code",
   "execution_count": 16,
   "outputs": [
    {
     "name": "stdout",
     "output_type": "stream",
     "text": [
      "INFO: Pandarallel will run on 12 workers.\n",
      "INFO: Pandarallel will use standard multiprocessing data transfer (pipe) to transfer data between the main process and workers.\n",
      "\n",
      "WARNING: You are on Windows. If you detect any issue with pandarallel, be sure you checked out the Troubleshooting page:\n",
      "https://nalepae.github.io/pandarallel/troubleshooting/\n"
     ]
    },
    {
     "data": {
      "text/plain": "VBox(children=(HBox(children=(IntProgress(value=0, description='0.00%', max=236), Label(value='0 / 236'))), HB…",
      "application/vnd.jupyter.widget-view+json": {
       "version_major": 2,
       "version_minor": 0,
       "model_id": "9898f161753a47d88cf642e35bde87ce"
      }
     },
     "metadata": {},
     "output_type": "display_data"
    },
    {
     "data": {
      "text/plain": "0       6331\n1       6337\n2       6345\n3       6351\n4       6359\n        ... \n2818    9135\n2819    9138\n2820    9142\n2821    9143\n2822    9145\nLength: 2823, dtype: int64"
     },
     "execution_count": 16,
     "metadata": {},
     "output_type": "execute_result"
    }
   ],
   "source": [
    "# Lets try with all data\n",
    "pandarallel.initialize(progress_bar=True, nb_workers=12)\n",
    "df.parallel_apply(create_sord_multithreaded, axis=1)\n"
   ],
   "metadata": {
    "collapsed": false,
    "ExecuteTime": {
     "end_time": "2024-03-19T23:49:46.963684100Z",
     "start_time": "2024-03-19T23:44:30.745549600Z"
    }
   },
   "id": "cde5f7d865f7568a"
  }
 ],
 "metadata": {
  "kernelspec": {
   "display_name": "Python 3 (ipykernel)",
   "language": "python",
   "name": "python3"
  },
  "language_info": {
   "codemirror_mode": {
    "name": "ipython",
    "version": 3
   },
   "file_extension": ".py",
   "mimetype": "text/x-python",
   "name": "python",
   "nbconvert_exporter": "python",
   "pygments_lexer": "ipython3",
   "version": "3.12.1"
  }
 },
 "nbformat": 4,
 "nbformat_minor": 5
}
